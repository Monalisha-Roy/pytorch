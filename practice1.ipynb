{
  "nbformat": 4,
  "nbformat_minor": 0,
  "metadata": {
    "colab": {
      "provenance": [],
      "authorship_tag": "ABX9TyODP9VXFGoq7m8rr9VI/Q8U",
      "include_colab_link": true
    },
    "kernelspec": {
      "name": "python3",
      "display_name": "Python 3"
    },
    "language_info": {
      "name": "python"
    }
  },
  "cells": [
    {
      "cell_type": "markdown",
      "metadata": {
        "id": "view-in-github",
        "colab_type": "text"
      },
      "source": [
        "<a href=\"https://colab.research.google.com/github/Monalisha-Roy/pytorch/blob/main/practice1.ipynb\" target=\"_parent\"><img src=\"https://colab.research.google.com/assets/colab-badge.svg\" alt=\"Open In Colab\"/></a>"
      ]
    },
    {
      "cell_type": "markdown",
      "source": [
        "## 2. Create a random tensor with shape(7, 7)"
      ],
      "metadata": {
        "id": "KOE71LoFOxLe"
      }
    },
    {
      "cell_type": "code",
      "execution_count": 3,
      "metadata": {
        "colab": {
          "base_uri": "https://localhost:8080/"
        },
        "id": "z1quraKCOfDv",
        "outputId": "af25c1a0-afc7-4c28-9c6f-8b6b3fbb61be"
      },
      "outputs": [
        {
          "output_type": "execute_result",
          "data": {
            "text/plain": [
              "tensor([[0.0290, 0.4019, 0.2598, 0.3666, 0.0583, 0.7006, 0.0518],\n",
              "        [0.4681, 0.6738, 0.3315, 0.7837, 0.5631, 0.7749, 0.8208],\n",
              "        [0.2793, 0.6817, 0.2837, 0.6567, 0.2388, 0.7313, 0.6012],\n",
              "        [0.3043, 0.2548, 0.6294, 0.9665, 0.7399, 0.4517, 0.4757],\n",
              "        [0.7842, 0.1525, 0.6662, 0.3343, 0.7893, 0.3216, 0.5247],\n",
              "        [0.6688, 0.8436, 0.4265, 0.9561, 0.0770, 0.4108, 0.0014],\n",
              "        [0.5414, 0.6419, 0.2976, 0.7077, 0.4189, 0.0655, 0.8839]])"
            ]
          },
          "metadata": {},
          "execution_count": 3
        }
      ],
      "source": [
        "import torch\n",
        "\n",
        "tensor = torch.rand(7, 7)\n",
        "tensor"
      ]
    },
    {
      "cell_type": "markdown",
      "source": [
        "## 3. Perform a matrix multiplication on the tensor from 2 with another random tensor with shape (1, 7) (hint: you may have to transpose the second tensor)."
      ],
      "metadata": {
        "id": "vDpZ9HijPT3A"
      }
    },
    {
      "cell_type": "code",
      "source": [
        "tensor1 = tensor\n",
        "tensor2 = torch.rand(1, 7)\n",
        "print(tensor2)\n",
        "\n",
        "tensor2 = tensor2.T\n",
        "print(tensor2)\n",
        "\n",
        "mul = tensor1.matmul(tensor2)\n",
        "print(\"Multiplied tensor: \", mul)"
      ],
      "metadata": {
        "colab": {
          "base_uri": "https://localhost:8080/"
        },
        "id": "-2YIyiZtPB8Q",
        "outputId": "6f1a54c5-30c8-479a-aafe-1fb4ae859c28"
      },
      "execution_count": 4,
      "outputs": [
        {
          "output_type": "stream",
          "name": "stdout",
          "text": [
            "tensor([[0.8083, 0.7528, 0.8988, 0.6839, 0.7658, 0.9149, 0.3993]])\n",
            "tensor([[0.8083],\n",
            "        [0.7528],\n",
            "        [0.8988],\n",
            "        [0.6839],\n",
            "        [0.7658],\n",
            "        [0.9149],\n",
            "        [0.3993]])\n",
            "Multiplied tensor:  tensor([[1.5166],\n",
            "        [3.1874],\n",
            "        [2.5350],\n",
            "        [2.8343],\n",
            "        [2.6844],\n",
            "        [2.6483],\n",
            "        [2.4059]])\n"
          ]
        }
      ]
    },
    {
      "cell_type": "markdown",
      "source": [
        "##\n",
        "4. Set the random seed to 0 and do 2 & 3 over again."
      ],
      "metadata": {
        "id": "Z-z9ypmDQu_6"
      }
    },
    {
      "cell_type": "code",
      "source": [
        "import torch\n",
        "\n",
        "RANDOM_SEED = 0\n",
        "torch.manual_seed(RANDOM_SEED)\n",
        "\n",
        "tensor1 = torch.rand(7, 7)\n",
        "print(tensor1)\n",
        "\n",
        "tensor2 = torch.rand(1, 7)\n",
        "print(tensor2)\n",
        "\n",
        "tensor2 = tensor2.T\n",
        "print(tensor2)\n",
        "\n",
        "mul = tensor1.matmul(tensor2)\n",
        "print(mul, mul.shape)"
      ],
      "metadata": {
        "colab": {
          "base_uri": "https://localhost:8080/"
        },
        "id": "VFH6raOjP-5Y",
        "outputId": "168db566-df18-4c27-b573-6cdae86fbfc5"
      },
      "execution_count": 5,
      "outputs": [
        {
          "output_type": "stream",
          "name": "stdout",
          "text": [
            "tensor([[0.4963, 0.7682, 0.0885, 0.1320, 0.3074, 0.6341, 0.4901],\n",
            "        [0.8964, 0.4556, 0.6323, 0.3489, 0.4017, 0.0223, 0.1689],\n",
            "        [0.2939, 0.5185, 0.6977, 0.8000, 0.1610, 0.2823, 0.6816],\n",
            "        [0.9152, 0.3971, 0.8742, 0.4194, 0.5529, 0.9527, 0.0362],\n",
            "        [0.1852, 0.3734, 0.3051, 0.9320, 0.1759, 0.2698, 0.1507],\n",
            "        [0.0317, 0.2081, 0.9298, 0.7231, 0.7423, 0.5263, 0.2437],\n",
            "        [0.5846, 0.0332, 0.1387, 0.2422, 0.8155, 0.7932, 0.2783]])\n",
            "tensor([[0.4820, 0.8198, 0.9971, 0.6984, 0.5675, 0.8352, 0.2056]])\n",
            "tensor([[0.4820],\n",
            "        [0.8198],\n",
            "        [0.9971],\n",
            "        [0.6984],\n",
            "        [0.5675],\n",
            "        [0.8352],\n",
            "        [0.2056]])\n",
            "tensor([[1.8542],\n",
            "        [1.9611],\n",
            "        [2.2884],\n",
            "        [3.0481],\n",
            "        [1.7067],\n",
            "        [2.5290],\n",
            "        [1.7989]]) torch.Size([7, 1])\n"
          ]
        }
      ]
    },
    {
      "cell_type": "markdown",
      "source": [
        "## 5. Speaking of random seeds, we saw how to set it with torch.manual_seed() but is there a GPU equivalent? (hint: you'll need to look into the documentation for torch.cuda for this one)"
      ],
      "metadata": {
        "id": "07jSJE4DUQSu"
      }
    },
    {
      "cell_type": "code",
      "source": [
        "import torch\n",
        "\n",
        "if(torch.cuda.is_available()):\n",
        "  print(\"Device running on GPU\")\n",
        "  torch.cuda.manual_seed(0)\n",
        "\n",
        "\n",
        "  t1 = torch.rand(7, 7)\n",
        "  t2 = torch.rand(1, 7)\n",
        "\n",
        "  print(t1, t2)\n",
        "\n",
        "  mul = t1.matmul(t2.T)\n",
        "  print(mul, mul.shape)\n",
        "else:\n",
        "  print(\"GPU not available\")\n"
      ],
      "metadata": {
        "colab": {
          "base_uri": "https://localhost:8080/"
        },
        "id": "mo45ptbsQ6Yd",
        "outputId": "3384806d-d187-4065-b063-3c18bd91e0a3"
      },
      "execution_count": 6,
      "outputs": [
        {
          "output_type": "stream",
          "name": "stdout",
          "text": [
            "GPU not available\n"
          ]
        }
      ]
    },
    {
      "cell_type": "markdown",
      "source": [
        "## 6. Create two random tensors of shape (2, 3) and send them both to the GPU (you'll need access to a GPU for this). Set torch.manual_seed(1234) when creating the tensors (this doesn't have to be the GPU random seed). The output should be something like:"
      ],
      "metadata": {
        "id": "BdTeYam8XpN1"
      }
    },
    {
      "cell_type": "code",
      "source": [
        "import torch\n",
        "\n",
        "torch.manual_seed(1234)\n",
        "\n",
        "if(torch.cuda.is_available()):\n",
        "  device='cuda'\n",
        "else:\n",
        "  device='cpu'\n",
        "\n",
        "t1 = torch.rand(2, 3)\n",
        "t2 = torch.rand(2, 3)\n",
        "\n",
        "t1 = t1.to(device)\n",
        "t2 = t2.to(device)\n",
        "\n",
        "t1, t2"
      ],
      "metadata": {
        "colab": {
          "base_uri": "https://localhost:8080/"
        },
        "id": "FDO2ifvtTgVQ",
        "outputId": "3eaaab55-21ac-4078-f6ae-7b9127f619ae"
      },
      "execution_count": 8,
      "outputs": [
        {
          "output_type": "execute_result",
          "data": {
            "text/plain": [
              "(tensor([[0.0290, 0.4019, 0.2598],\n",
              "         [0.3666, 0.0583, 0.7006]]),\n",
              " tensor([[0.0518, 0.4681, 0.6738],\n",
              "         [0.3315, 0.7837, 0.5631]]))"
            ]
          },
          "metadata": {},
          "execution_count": 8
        }
      ]
    },
    {
      "cell_type": "markdown",
      "source": [
        "## 7. Perform a matrix multiplication on the tensors you created in 6 (again, you may have to adjust the shapes of one of the tensors)."
      ],
      "metadata": {
        "id": "q_l35BvuciBX"
      }
    },
    {
      "cell_type": "code",
      "source": [
        "mul = t1.matmul(t2.T)\n",
        "print(mul, mul.shape)"
      ],
      "metadata": {
        "colab": {
          "base_uri": "https://localhost:8080/"
        },
        "id": "7un-ERHQYuPH",
        "outputId": "ffe2a05c-caa6-465a-b815-709d7a36e7d4"
      },
      "execution_count": 9,
      "outputs": [
        {
          "output_type": "stream",
          "name": "stdout",
          "text": [
            "tensor([[0.3647, 0.4709],\n",
            "        [0.5184, 0.5617]]) torch.Size([2, 2])\n"
          ]
        }
      ]
    },
    {
      "cell_type": "markdown",
      "source": [
        "## 8. Find the maximum and minimum values of the output of 7"
      ],
      "metadata": {
        "id": "Bc4wO2Yyf4qp"
      }
    },
    {
      "cell_type": "code",
      "source": [
        "print(\"Minimum of t1: \", torch.min(t1))\n",
        "print(\"Maximum of t1: \", torch.max(t1))\n",
        "print(\"Minimum of t2: \", torch.min(t2))\n",
        "print(\"Maximum of t2: \", torch.max(t2))"
      ],
      "metadata": {
        "id": "KFtQVpJ0fP_2",
        "outputId": "456f465a-c290-4fea-93d3-53e205923811",
        "colab": {
          "base_uri": "https://localhost:8080/"
        }
      },
      "execution_count": 10,
      "outputs": [
        {
          "output_type": "stream",
          "name": "stdout",
          "text": [
            "Minimum of t1:  tensor(0.0290)\n",
            "Maximum of t1:  tensor(0.7006)\n",
            "Minimum of t2:  tensor(0.0518)\n",
            "Maximum of t2:  tensor(0.7837)\n"
          ]
        }
      ]
    },
    {
      "cell_type": "markdown",
      "source": [
        "## 9. Find the maximum and minimum index values of the output of 7"
      ],
      "metadata": {
        "id": "l6yaGM6UhTDs"
      }
    },
    {
      "cell_type": "code",
      "source": [
        "print(\"Minimum index values of t1: \", torch.argmin(t1))\n",
        "print(\"Maximum index values of t1: \", torch.argmax(t1))\n",
        "print(\"Minimum index values of t2: \", torch.argmin(t2))\n",
        "print(\"Maximum index values of t2: \", torch.argmax(t2))"
      ],
      "metadata": {
        "id": "wqmg3YI2gb8O",
        "outputId": "737ed241-6249-4f3c-f0f4-87c3af946e05",
        "colab": {
          "base_uri": "https://localhost:8080/"
        }
      },
      "execution_count": 12,
      "outputs": [
        {
          "output_type": "stream",
          "name": "stdout",
          "text": [
            "Minimum index values of t1:  tensor(0)\n",
            "Maximum index values of t1:  tensor(5)\n",
            "Minimum index values of t2:  tensor(0)\n",
            "Maximum index values of t2:  tensor(4)\n"
          ]
        }
      ]
    },
    {
      "cell_type": "markdown",
      "source": [
        "## 10. Make a random tensor with shape (1, 1, 1, 10) and then create a new tensor with all the 1 dimensions removed to be left with a tensor of shape (10). Set the seed to 7 when you create it and print out the first tensor and it's shape as well as the second tensor and it's shape."
      ],
      "metadata": {
        "id": "A2_7b0cgiQ6b"
      }
    },
    {
      "cell_type": "code",
      "source": [
        "import torch\n",
        "\n",
        "tensor = torch.rand(1, 1, 1, 10)\n",
        "print(tensor, tensor.shape)\n",
        "\n",
        "squeezed_tensor = tensor.squeeze()\n",
        "squeezed_tensor, squeezed_tensor.shape"
      ],
      "metadata": {
        "id": "tzevwsBRh8i7",
        "outputId": "a98d0232-8108-43ad-be53-7ae9db37c2db",
        "colab": {
          "base_uri": "https://localhost:8080/"
        }
      },
      "execution_count": 19,
      "outputs": [
        {
          "output_type": "stream",
          "name": "stdout",
          "text": [
            "tensor([[[[0.6604, 0.1303, 0.3498, 0.3824, 0.8043, 0.3186, 0.2908, 0.4196,\n",
            "           0.3728, 0.3769]]]]) torch.Size([1, 1, 1, 10])\n"
          ]
        },
        {
          "output_type": "execute_result",
          "data": {
            "text/plain": [
              "(tensor([0.6604, 0.1303, 0.3498, 0.3824, 0.8043, 0.3186, 0.2908, 0.4196, 0.3728,\n",
              "         0.3769]),\n",
              " torch.Size([10]))"
            ]
          },
          "metadata": {},
          "execution_count": 19
        }
      ]
    },
    {
      "cell_type": "code",
      "source": [],
      "metadata": {
        "id": "4IsbWUwMjX4z"
      },
      "execution_count": null,
      "outputs": []
    }
  ]
}